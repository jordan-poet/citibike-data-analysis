{
 "cells": [
  {
   "cell_type": "code",
   "execution_count": 5,
   "id": "a959199a-7a26-4bcc-8421-9a97789cb35f",
   "metadata": {},
   "outputs": [
    {
     "name": "stdout",
     "output_type": "stream",
     "text": [
      "Folder size: 4.79 GB (decimal)\n",
      "Folder size: 4.46 GiB (binary)\n"
     ]
    }
   ],
   "source": [
    "# basic function to get folder size in GB and GiB. \n",
    "\n",
    "# import lib\n",
    "import os\n",
    "\n",
    "# define function\n",
    "def get_folder_size_both(folder_path):\n",
    "    total_size = 0\n",
    "    for dirpath, dirnames, filenames in os.walk(folder_path):\n",
    "        for filename in filenames:\n",
    "            filepath = os.path.join(dirpath, filename)\n",
    "            try:\n",
    "                total_size += os.path.getsize(filepath)\n",
    "            except (OSError, FileNotFoundError):\n",
    "                pass\n",
    "    \n",
    "    # Decimal (GB) | Binary (GiB)\n",
    "    size_gb = total_size / (1000**3)   # Gigabytes (decimal)\n",
    "    size_gib = total_size / (1024**3)  # Gibibytes (binary)\n",
    "    \n",
    "    return size_gb, size_gib\n",
    "\n",
    "# outputs\n",
    "folder_path = \"data/raw\" # change this if using a different file structure\n",
    "gb, gib = get_folder_size_both(folder_path)\n",
    "print(f\"Folder size: {gb:.2f} GB (decimal)\")\n",
    "print(f\"Folder size: {gib:.2f} GiB (binary)\")"
   ]
  },
  {
   "cell_type": "code",
   "execution_count": null,
   "id": "eaa699e9-868e-41ac-bbea-3a16cce2a21e",
   "metadata": {},
   "outputs": [],
   "source": []
  }
 ],
 "metadata": {
  "kernelspec": {
   "display_name": "Python [conda env:base] *",
   "language": "python",
   "name": "conda-base-py"
  },
  "language_info": {
   "codemirror_mode": {
    "name": "ipython",
    "version": 3
   },
   "file_extension": ".py",
   "mimetype": "text/x-python",
   "name": "python",
   "nbconvert_exporter": "python",
   "pygments_lexer": "ipython3",
   "version": "3.12.2"
  }
 },
 "nbformat": 4,
 "nbformat_minor": 5
}
