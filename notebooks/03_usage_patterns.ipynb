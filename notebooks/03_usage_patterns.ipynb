{
 "cells": [
  {
   "cell_type": "code",
   "execution_count": 4,
   "id": "7926893a-2ad1-4c59-a114-aba8ac310072",
   "metadata": {},
   "outputs": [
    {
     "data": {
      "text/plain": [
       "\"\\nPeak hours, seasonality trends. \\n\\nAreas to interrogate: \\n- How has the distribution of rideable types changed over time? \\n- When did e-bikes get added to the system? \\n- Is there a correlation between day of the week and ride length? bike type and day of the week or hours of the day? \\n- Is there a correlation between day of the week and bike type? \\n- Station imbalance: Which stations consistently run empty or full?\\n- Bike redistribution needs: Where do bikes accumulate vs where they're needed?\\n- Peak capacity stress: Which stations/times show highest demand relative to supply?\\n- Rush hour vs leisure patterns: Different station pairs popular at different times?\\n- Weekend vs weekday geographic preferences\\n- Holiday/event impact on usage patterns\\n\""
      ]
     },
     "execution_count": 4,
     "metadata": {},
     "output_type": "execute_result"
    }
   ],
   "source": [
    "'''\n",
    "Peak hours, seasonality trends. \n",
    "\n",
    "Areas to interrogate: \n",
    "- How has the distribution of rideable types changed over time? \n",
    "- When did e-bikes get added to the system? \n",
    "- Is there a correlation between day of the week and ride length? bike type and day of the week or hours of the day? \n",
    "- Is there a correlation between day of the week and bike type? \n",
    "- Station imbalance: Which stations consistently run empty or full?\n",
    "- Bike redistribution needs: Where do bikes accumulate vs where they're needed?\n",
    "- Peak capacity stress: Which stations/times show highest demand relative to supply?\n",
    "- Rush hour vs leisure patterns: Different station pairs popular at different times?\n",
    "- Weekend vs weekday geographic preferences\n",
    "- Holiday/event impact on usage patterns\n",
    "'''"
   ]
  },
  {
   "cell_type": "code",
   "execution_count": 2,
   "id": "6b2af629-e61e-4b35-98c3-4d135d459d86",
   "metadata": {},
   "outputs": [
    {
     "name": "stdout",
     "output_type": "stream",
     "text": [
      "Data shape: (2115989, 17)\n",
      "            ride_id  rideable_type              started_at  \\\n",
      "0  B2B980E0EAE1D6F1   classic_bike 2024-02-25 20:25:40.894   \n",
      "1  1069DDA1FED20568   classic_bike 2024-02-21 22:21:38.446   \n",
      "2  B58850AF6F2D8BD5  electric_bike 2024-02-14 08:31:14.609   \n",
      "3  D46E6C5A69048E11  electric_bike 2024-02-05 08:42:25.999   \n",
      "4  707AF4CF2C7834C2  electric_bike 2024-02-08 11:13:15.969   \n",
      "\n",
      "                 ended_at        start_station_name start_station_id  \\\n",
      "0 2024-02-25 20:43:58.504  Greenwich St & Hubert St          5470.10   \n",
      "1 2024-02-21 22:40:12.259  Greenwich St & Hubert St          5470.10   \n",
      "2 2024-02-14 08:42:30.427   Mercer St & Bleecker St          5679.05   \n",
      "3 2024-02-05 08:56:26.899          E 20 St & FDR Dr          5886.13   \n",
      "4 2024-02-08 11:18:44.259          E 20 St & FDR Dr          5886.13   \n",
      "\n",
      "          end_station_name end_station_id  start_lat  start_lng    end_lat  \\\n",
      "0  Hudson Blvd W & W 36 St        6611.07  40.721319 -74.010065  40.756765   \n",
      "1  Hudson Blvd W & W 36 St        6611.07  40.721319 -74.010065  40.756765   \n",
      "2         W 20 St & 10 Ave        6306.01  40.727068 -73.996554  40.745686   \n",
      "3          E 74 St & 1 Ave        6953.08  40.733155 -73.975561  40.768974   \n",
      "4     Pitt St & Stanton St        5406.04  40.733184 -73.975525  40.719261   \n",
      "\n",
      "     end_lng member_casual        date  hour day_of_week  duration_minutes  \n",
      "0 -73.999714        member  2024-02-25    20      Sunday         18.293500  \n",
      "1 -73.999714        member  2024-02-21    22   Wednesday         18.563550  \n",
      "2 -74.005141        member  2024-02-14     8   Wednesday         11.263633  \n",
      "3 -73.954823        member  2024-02-05     8      Monday         14.015000  \n",
      "4 -73.981780        member  2024-02-08    11    Thursday          5.471500  \n"
     ]
    }
   ],
   "source": [
    "import pandas as pd\n",
    "import numpy as np\n",
    "import matplotlib.pyplot as plt\n",
    "import seaborn as sns\n",
    "from pathlib import Path\n",
    "\n",
    "# plotting-- for future use\n",
    "plt.style.use('default')\n",
    "sns.set_palette(\"husl\")\n",
    "\n",
    "# loading\n",
    "df_enhanced = pd.read_parquet('../data/processed/cleaned_citibike_data_with_features.parquet')\n",
    "\n",
    "# check for correct load\n",
    "print(f\"Data shape: {df_enhanced.shape}\")\n",
    "print(df_enhanced.head())"
   ]
  },
  {
   "cell_type": "code",
   "execution_count": 3,
   "id": "b5485afa-da06-40f8-a753-d2569bf6c472",
   "metadata": {},
   "outputs": [
    {
     "name": "stdout",
     "output_type": "stream",
     "text": [
      "['ride_id', 'rideable_type', 'started_at', 'ended_at', 'start_station_name', 'start_station_id', 'end_station_name', 'end_station_id', 'start_lat', 'start_lng', 'end_lat', 'end_lng', 'member_casual', 'date', 'hour', 'day_of_week', 'duration_minutes']\n"
     ]
    }
   ],
   "source": [
    "column_names = df_enhanced.columns.tolist()\n",
    "\n",
    "# Print the list of column names\n",
    "print(column_names)"
   ]
  }
 ],
 "metadata": {
  "kernelspec": {
   "display_name": "Python 3 (ipykernel)",
   "language": "python",
   "name": "python3"
  },
  "language_info": {
   "codemirror_mode": {
    "name": "ipython",
    "version": 3
   },
   "file_extension": ".py",
   "mimetype": "text/x-python",
   "name": "python",
   "nbconvert_exporter": "python",
   "pygments_lexer": "ipython3",
   "version": "3.12.2"
  }
 },
 "nbformat": 4,
 "nbformat_minor": 5
}
