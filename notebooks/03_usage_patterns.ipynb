{
 "cells": [
  {
   "cell_type": "code",
   "execution_count": 1,
   "id": "7926893a-2ad1-4c59-a114-aba8ac310072",
   "metadata": {},
   "outputs": [
    {
     "data": {
      "text/plain": [
       "'\\nPeak hours, seasonality trends. \\n'"
      ]
     },
     "execution_count": 1,
     "metadata": {},
     "output_type": "execute_result"
    }
   ],
   "source": [
    "'''\n",
    "Peak hours, seasonality trends. \n",
    "'''"
   ]
  },
  {
   "cell_type": "code",
   "execution_count": 4,
   "id": "6b2af629-e61e-4b35-98c3-4d135d459d86",
   "metadata": {},
   "outputs": [
    {
     "name": "stdout",
     "output_type": "stream",
     "text": [
      "Data shape: (3158900, 17)\n",
      "            ride_id  rideable_type              started_at  \\\n",
      "0  A60B1C35CE5E45FD  electric_bike 2025-03-05 09:08:03.136   \n",
      "1  469B08AA25EDCB64  electric_bike 2025-03-06 07:40:49.163   \n",
      "2  7C5B0D17ADC24243  electric_bike 2025-03-14 09:20:10.576   \n",
      "3  5D31A24EC019BA0D  electric_bike 2025-03-10 08:01:32.317   \n",
      "4  8A65DD5EAB71F1D5  electric_bike 2025-03-14 08:22:50.328   \n",
      "\n",
      "                 ended_at        start_station_name start_station_id  \\\n",
      "0 2025-03-05 09:15:52.755           E 55 St & 2 Ave          6650.07   \n",
      "1 2025-03-06 07:48:29.447           E 55 St & 2 Ave          6650.07   \n",
      "2 2025-03-14 09:27:00.757       Sterling Pl & 5 Ave          4208.01   \n",
      "3 2025-03-10 08:20:22.409  Lexington Ave & E 111 St          7567.06   \n",
      "4 2025-03-14 08:36:35.953   W 90 St & Amsterdam Ave          7458.09   \n",
      "\n",
      "              end_station_name end_station_id  start_lat  start_lng  \\\n",
      "0           E 40 St & Park Ave        6432.11  40.757973 -73.966033   \n",
      "1        E 43 St & Madison Ave        6551.11  40.757973 -73.966033   \n",
      "2  Nevins St & Schermerhorn St        4437.09  40.678970 -73.978553   \n",
      "3           E 40 St & Park Ave        6432.11  40.795412 -73.944123   \n",
      "4        E 43 St & Madison Ave        6551.11  40.790180 -73.972890   \n",
      "\n",
      "     end_lat    end_lng member_casual        date  hour day_of_week  \\\n",
      "0  40.750756 -73.978326        member  2025-03-05     9   Wednesday   \n",
      "1  40.753547 -73.978966        member  2025-03-06     7    Thursday   \n",
      "2  40.687372 -73.981761        member  2025-03-14     9      Friday   \n",
      "3  40.750756 -73.978326        member  2025-03-10     8      Monday   \n",
      "4  40.753547 -73.978966        member  2025-03-14     8      Friday   \n",
      "\n",
      "   duration_minutes  \n",
      "0          7.826983  \n",
      "1          7.671400  \n",
      "2          6.836350  \n",
      "3         18.834867  \n",
      "4         13.760417  \n"
     ]
    }
   ],
   "source": [
    "import pandas as pd\n",
    "import numpy as np\n",
    "import matplotlib.pyplot as plt\n",
    "import seaborn as sns\n",
    "from pathlib import Path\n",
    "\n",
    "# plotting-- for future use\n",
    "plt.style.use('default')\n",
    "sns.set_palette(\"husl\")\n",
    "\n",
    "# loading\n",
    "df_enhanced = pd.read_parquet('../data/processed/cleaned_citibike_data_with_features.parquet')\n",
    "\n",
    "# check for correct load\n",
    "print(f\"Data shape: {df_enhanced.shape}\")\n",
    "print(df_enhanced.head())"
   ]
  },
  {
   "cell_type": "code",
   "execution_count": null,
   "id": "b5485afa-da06-40f8-a753-d2569bf6c472",
   "metadata": {},
   "outputs": [],
   "source": []
  }
 ],
 "metadata": {
  "kernelspec": {
   "display_name": "Python 3 (ipykernel)",
   "language": "python",
   "name": "python3"
  },
  "language_info": {
   "codemirror_mode": {
    "name": "ipython",
    "version": 3
   },
   "file_extension": ".py",
   "mimetype": "text/x-python",
   "name": "python",
   "nbconvert_exporter": "python",
   "pygments_lexer": "ipython3",
   "version": "3.12.2"
  }
 },
 "nbformat": 4,
 "nbformat_minor": 5
}
