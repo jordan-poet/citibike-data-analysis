{
 "cells": [
  {
   "cell_type": "code",
   "execution_count": 115,
   "id": "946c14a6-293f-4db0-8be0-a6c8ff137e3a",
   "metadata": {},
   "outputs": [
    {
     "data": {
      "text/plain": [
       "'\\nThis notebook cleans csv files downloaded from Citi Bike. \\n'"
      ]
     },
     "execution_count": 115,
     "metadata": {},
     "output_type": "execute_result"
    }
   ],
   "source": [
    "'''\n",
    "This notebook cleans csv files downloaded from Citi Bike. \n",
    "'''"
   ]
  },
  {
   "cell_type": "code",
   "execution_count": 116,
   "id": "df9e2347-f21c-4d69-83e6-e43afcd59f7e",
   "metadata": {},
   "outputs": [
    {
     "name": "stdout",
     "output_type": "stream",
     "text": [
      "Available data files: ['202503-citibike-tripdata.csv', '202401-citibike-tripdata.csv']\n",
      "Dataset shape: (3168271, 12)\n"
     ]
    },
    {
     "data": {
      "text/html": [
       "<div>\n",
       "<style scoped>\n",
       "    .dataframe tbody tr th:only-of-type {\n",
       "        vertical-align: middle;\n",
       "    }\n",
       "\n",
       "    .dataframe tbody tr th {\n",
       "        vertical-align: top;\n",
       "    }\n",
       "\n",
       "    .dataframe thead th {\n",
       "        text-align: right;\n",
       "    }\n",
       "</style>\n",
       "<table border=\"1\" class=\"dataframe\">\n",
       "  <thead>\n",
       "    <tr style=\"text-align: right;\">\n",
       "      <th></th>\n",
       "      <th>rideable_type</th>\n",
       "      <th>started_at</th>\n",
       "      <th>ended_at</th>\n",
       "      <th>start_station_name</th>\n",
       "      <th>start_station_id</th>\n",
       "      <th>end_station_name</th>\n",
       "      <th>end_station_id</th>\n",
       "      <th>start_lat</th>\n",
       "      <th>start_lng</th>\n",
       "      <th>end_lat</th>\n",
       "      <th>end_lng</th>\n",
       "      <th>member_casual</th>\n",
       "    </tr>\n",
       "    <tr>\n",
       "      <th>ride_id</th>\n",
       "      <th></th>\n",
       "      <th></th>\n",
       "      <th></th>\n",
       "      <th></th>\n",
       "      <th></th>\n",
       "      <th></th>\n",
       "      <th></th>\n",
       "      <th></th>\n",
       "      <th></th>\n",
       "      <th></th>\n",
       "      <th></th>\n",
       "      <th></th>\n",
       "    </tr>\n",
       "  </thead>\n",
       "  <tbody>\n",
       "    <tr>\n",
       "      <th>A60B1C35CE5E45FD</th>\n",
       "      <td>electric_bike</td>\n",
       "      <td>2025-03-05 09:08:03.136</td>\n",
       "      <td>2025-03-05 09:15:52.755</td>\n",
       "      <td>E 55 St &amp; 2 Ave</td>\n",
       "      <td>6650.07</td>\n",
       "      <td>E 40 St &amp; Park Ave</td>\n",
       "      <td>6432.11</td>\n",
       "      <td>40.757973</td>\n",
       "      <td>-73.966033</td>\n",
       "      <td>40.750756</td>\n",
       "      <td>-73.978326</td>\n",
       "      <td>member</td>\n",
       "    </tr>\n",
       "    <tr>\n",
       "      <th>469B08AA25EDCB64</th>\n",
       "      <td>electric_bike</td>\n",
       "      <td>2025-03-06 07:40:49.163</td>\n",
       "      <td>2025-03-06 07:48:29.447</td>\n",
       "      <td>E 55 St &amp; 2 Ave</td>\n",
       "      <td>6650.07</td>\n",
       "      <td>E 43 St &amp; Madison Ave</td>\n",
       "      <td>6551.11</td>\n",
       "      <td>40.757973</td>\n",
       "      <td>-73.966033</td>\n",
       "      <td>40.753547</td>\n",
       "      <td>-73.978966</td>\n",
       "      <td>member</td>\n",
       "    </tr>\n",
       "    <tr>\n",
       "      <th>7C5B0D17ADC24243</th>\n",
       "      <td>electric_bike</td>\n",
       "      <td>2025-03-14 09:20:10.576</td>\n",
       "      <td>2025-03-14 09:27:00.757</td>\n",
       "      <td>Sterling Pl &amp; 5 Ave</td>\n",
       "      <td>4208.01</td>\n",
       "      <td>Nevins St &amp; Schermerhorn St</td>\n",
       "      <td>4437.09</td>\n",
       "      <td>40.678970</td>\n",
       "      <td>-73.978553</td>\n",
       "      <td>40.687372</td>\n",
       "      <td>-73.981761</td>\n",
       "      <td>member</td>\n",
       "    </tr>\n",
       "    <tr>\n",
       "      <th>5D31A24EC019BA0D</th>\n",
       "      <td>electric_bike</td>\n",
       "      <td>2025-03-10 08:01:32.317</td>\n",
       "      <td>2025-03-10 08:20:22.409</td>\n",
       "      <td>Lexington Ave &amp; E 111 St</td>\n",
       "      <td>7567.06</td>\n",
       "      <td>E 40 St &amp; Park Ave</td>\n",
       "      <td>6432.11</td>\n",
       "      <td>40.795412</td>\n",
       "      <td>-73.944123</td>\n",
       "      <td>40.750756</td>\n",
       "      <td>-73.978326</td>\n",
       "      <td>member</td>\n",
       "    </tr>\n",
       "    <tr>\n",
       "      <th>8A65DD5EAB71F1D5</th>\n",
       "      <td>electric_bike</td>\n",
       "      <td>2025-03-14 08:22:50.328</td>\n",
       "      <td>2025-03-14 08:36:35.953</td>\n",
       "      <td>W 90 St &amp; Amsterdam Ave</td>\n",
       "      <td>7458.09</td>\n",
       "      <td>E 43 St &amp; Madison Ave</td>\n",
       "      <td>6551.11</td>\n",
       "      <td>40.790180</td>\n",
       "      <td>-73.972890</td>\n",
       "      <td>40.753547</td>\n",
       "      <td>-73.978966</td>\n",
       "      <td>member</td>\n",
       "    </tr>\n",
       "  </tbody>\n",
       "</table>\n",
       "</div>"
      ],
      "text/plain": [
       "                  rideable_type               started_at  \\\n",
       "ride_id                                                    \n",
       "A60B1C35CE5E45FD  electric_bike  2025-03-05 09:08:03.136   \n",
       "469B08AA25EDCB64  electric_bike  2025-03-06 07:40:49.163   \n",
       "7C5B0D17ADC24243  electric_bike  2025-03-14 09:20:10.576   \n",
       "5D31A24EC019BA0D  electric_bike  2025-03-10 08:01:32.317   \n",
       "8A65DD5EAB71F1D5  electric_bike  2025-03-14 08:22:50.328   \n",
       "\n",
       "                                 ended_at        start_station_name  \\\n",
       "ride_id                                                               \n",
       "A60B1C35CE5E45FD  2025-03-05 09:15:52.755           E 55 St & 2 Ave   \n",
       "469B08AA25EDCB64  2025-03-06 07:48:29.447           E 55 St & 2 Ave   \n",
       "7C5B0D17ADC24243  2025-03-14 09:27:00.757       Sterling Pl & 5 Ave   \n",
       "5D31A24EC019BA0D  2025-03-10 08:20:22.409  Lexington Ave & E 111 St   \n",
       "8A65DD5EAB71F1D5  2025-03-14 08:36:35.953   W 90 St & Amsterdam Ave   \n",
       "\n",
       "                 start_station_id             end_station_name end_station_id  \\\n",
       "ride_id                                                                         \n",
       "A60B1C35CE5E45FD          6650.07           E 40 St & Park Ave        6432.11   \n",
       "469B08AA25EDCB64          6650.07        E 43 St & Madison Ave        6551.11   \n",
       "7C5B0D17ADC24243          4208.01  Nevins St & Schermerhorn St        4437.09   \n",
       "5D31A24EC019BA0D          7567.06           E 40 St & Park Ave        6432.11   \n",
       "8A65DD5EAB71F1D5          7458.09        E 43 St & Madison Ave        6551.11   \n",
       "\n",
       "                  start_lat  start_lng    end_lat    end_lng member_casual  \n",
       "ride_id                                                                     \n",
       "A60B1C35CE5E45FD  40.757973 -73.966033  40.750756 -73.978326        member  \n",
       "469B08AA25EDCB64  40.757973 -73.966033  40.753547 -73.978966        member  \n",
       "7C5B0D17ADC24243  40.678970 -73.978553  40.687372 -73.981761        member  \n",
       "5D31A24EC019BA0D  40.795412 -73.944123  40.750756 -73.978326        member  \n",
       "8A65DD5EAB71F1D5  40.790180 -73.972890  40.753547 -73.978966        member  "
      ]
     },
     "execution_count": 116,
     "metadata": {},
     "output_type": "execute_result"
    }
   ],
   "source": [
    "import pandas as pd\n",
    "import numpy as np\n",
    "import matplotlib.pyplot as plt\n",
    "import seaborn as sns\n",
    "from pathlib import Path\n",
    "\n",
    "# plotting-- for future use\n",
    "plt.style.use('default')\n",
    "sns.set_palette(\"husl\")\n",
    "\n",
    "# loading\n",
    "data_dir = Path(\"../data/raw\")\n",
    "csv_files = list(data_dir.glob(\"*.csv\"))\n",
    "print(f\"Available data files: {[f.name for f in csv_files]}\")\n",
    "\n",
    "# load first file, explicit index\n",
    "df = pd.read_csv(csv_files[0], index_col='ride_id', low_memory=False)\n",
    "print(f\"Dataset shape: {df.shape}\")\n",
    "df.head()"
   ]
  },
  {
   "cell_type": "code",
   "execution_count": 117,
   "id": "267650d0-8ed6-478c-8d33-6478b78f250c",
   "metadata": {},
   "outputs": [
    {
     "name": "stdout",
     "output_type": "stream",
     "text": [
      "Column names:\n",
      "['rideable_type', 'started_at', 'ended_at', 'start_station_name', 'start_station_id', 'end_station_name', 'end_station_id', 'start_lat', 'start_lng', 'end_lat', 'end_lng', 'member_casual']\n",
      "\n",
      "Data types:\n",
      "rideable_type          object\n",
      "started_at             object\n",
      "ended_at               object\n",
      "start_station_name     object\n",
      "start_station_id       object\n",
      "end_station_name       object\n",
      "end_station_id         object\n",
      "start_lat             float64\n",
      "start_lng             float64\n",
      "end_lat               float64\n",
      "end_lng               float64\n",
      "member_casual          object\n",
      "dtype: object\n",
      "\n",
      "Missing values:\n",
      "rideable_type            0\n",
      "started_at               0\n",
      "ended_at                 0\n",
      "start_station_name    1053\n",
      "start_station_id      1053\n",
      "end_station_name      8069\n",
      "end_station_id        8454\n",
      "start_lat                0\n",
      "start_lng                0\n",
      "end_lat                527\n",
      "end_lng                527\n",
      "member_casual            0\n",
      "dtype: int64\n"
     ]
    }
   ],
   "source": [
    "# overview data\n",
    "\n",
    "# column names for reference\n",
    "print(\"Column names:\")\n",
    "print(df.columns.tolist())\n",
    "\n",
    "# review. correct data types next if necessary.\n",
    "print(\"\\nData types:\")\n",
    "print(df.dtypes)\n",
    "\n",
    "# determine if these are necessary to keep for analytics-- volume, granularity\n",
    "print(\"\\nMissing values:\")\n",
    "print(df.isnull().sum())"
   ]
  },
  {
   "cell_type": "code",
   "execution_count": 118,
   "id": "4e62a562-1a7b-4e21-a3d0-c46c14290193",
   "metadata": {},
   "outputs": [],
   "source": [
    "# change data types for dates and objects\n",
    "# use coerce to avoid raising failures \n",
    "df['started_at'] = pd.to_datetime(df['started_at'], errors='coerce') \n",
    "df['ended_at'] = pd.to_datetime(df['ended_at'], errors='coerce') \n",
    "\n",
    "# change objects to string\n",
    "df[['rideable_type', 'start_station_name', 'end_station_name', 'member_casual']] = df[['rideable_type', 'start_station_name', 'end_station_name', 'member_casual']].astype('string')"
   ]
  },
  {
   "cell_type": "code",
   "execution_count": 119,
   "id": "325998f2-2b6e-481a-aef2-8ceed715bc2c",
   "metadata": {},
   "outputs": [
    {
     "name": "stdout",
     "output_type": "stream",
     "text": [
      "                    Missing_Count  Missing_Percentage\n",
      "start_station_name           1053            0.033236\n",
      "start_station_id             1053            0.033236\n",
      "end_station_name             8069            0.254681\n",
      "end_station_id               8454            0.266833\n",
      "end_lat                       527            0.016634\n",
      "end_lng                       527            0.016634\n",
      "Maximum missing data percentage: 0.267%\n",
      "✓ Excellent data quality: All missing data is below 1% threshold.\n",
      "  Missing data should not affect analysis results.\n"
     ]
    }
   ],
   "source": [
    "# count missing values & percentages & flag with text\n",
    "missing_data = pd.DataFrame({\n",
    "    'Missing_Count': df.isnull().sum(),\n",
    "    'Missing_Percentage': (df.isnull().sum() / len(df)) * 100\n",
    "})\n",
    "missing_data = missing_data[missing_data['Missing_Count'] > 0]  # only show columns with missing counts\n",
    "print(missing_data)\n",
    "\n",
    "max_missing_pct = missing_data['Missing_Percentage'].max() # percentages not counts\n",
    "print(f\"Maximum missing data percentage: {max_missing_pct:.3f}%\")\n",
    "\n",
    "if max_missing_pct < 1.0:\n",
    "    print(\"✓ Excellent data quality: All missing data is below 1% threshold.\")\n",
    "    print(\"  Missing data should not affect analysis results.\")"
   ]
  },
  {
   "cell_type": "code",
   "execution_count": 120,
   "id": "d3324d4b-a36a-47be-a34c-63eb13eb37e2",
   "metadata": {},
   "outputs": [
    {
     "data": {
      "text/plain": [
       "ride_id               0\n",
       "rideable_type         0\n",
       "started_at            0\n",
       "ended_at              0\n",
       "start_station_name    0\n",
       "start_station_id      0\n",
       "end_station_name      0\n",
       "end_station_id        0\n",
       "start_lat             0\n",
       "start_lng             0\n",
       "end_lat               0\n",
       "end_lng               0\n",
       "member_casual         0\n",
       "dtype: int64"
      ]
     },
     "execution_count": 120,
     "metadata": {},
     "output_type": "execute_result"
    }
   ],
   "source": [
    "# drop rows with nulls & confirm counts\n",
    "df_clean = df.dropna().copy()\n",
    "df_clean.reset_index(drop=False, inplace=True)\n",
    "df_clean.isnull().sum()"
   ]
  },
  {
   "cell_type": "code",
   "execution_count": 122,
   "id": "82a1087d-5576-44b6-b1e4-0fcb89db44e1",
   "metadata": {},
   "outputs": [],
   "source": [
    "# export cleaned data for future use\n",
    "# using parquet to maintain data types \n",
    "df_clean.to_parquet('../data/processed/cleaned_citibike_data.parquet')\n"
   ]
  },
  {
   "cell_type": "code",
   "execution_count": null,
   "id": "8b774840-5e7b-4b63-96a2-7a90eeae53a0",
   "metadata": {},
   "outputs": [],
   "source": []
  }
 ],
 "metadata": {
  "kernelspec": {
   "display_name": "Python 3 (ipykernel)",
   "language": "python",
   "name": "python3"
  },
  "language_info": {
   "codemirror_mode": {
    "name": "ipython",
    "version": 3
   },
   "file_extension": ".py",
   "mimetype": "text/x-python",
   "name": "python",
   "nbconvert_exporter": "python",
   "pygments_lexer": "ipython3",
   "version": "3.12.2"
  }
 },
 "nbformat": 4,
 "nbformat_minor": 5
}
