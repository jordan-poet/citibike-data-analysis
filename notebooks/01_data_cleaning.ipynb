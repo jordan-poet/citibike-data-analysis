{
 "cells": [
  {
   "cell_type": "code",
   "execution_count": 1,
   "id": "946c14a6-293f-4db0-8be0-a6c8ff137e3a",
   "metadata": {},
   "outputs": [
    {
     "data": {
      "text/plain": [
       "'\\nThis notebook cleans csv files downloaded from Citi Bike. \\n'"
      ]
     },
     "execution_count": 1,
     "metadata": {},
     "output_type": "execute_result"
    }
   ],
   "source": [
    "'''\n",
    "This notebook cleans csv files downloaded from Citi Bike. \n",
    "'''"
   ]
  },
  {
   "cell_type": "code",
   "execution_count": 2,
   "id": "df9e2347-f21c-4d69-83e6-e43afcd59f7e",
   "metadata": {},
   "outputs": [
    {
     "name": "stdout",
     "output_type": "stream",
     "text": [
      "Available data files: ['202402-citibike-tripdata.csv', '202401-citibike-tripdata.csv', '202403-citibike-tripdata.csv']\n",
      "Dataset shape: (2121501, 12)\n"
     ]
    },
    {
     "data": {
      "text/html": [
       "<div>\n",
       "<style scoped>\n",
       "    .dataframe tbody tr th:only-of-type {\n",
       "        vertical-align: middle;\n",
       "    }\n",
       "\n",
       "    .dataframe tbody tr th {\n",
       "        vertical-align: top;\n",
       "    }\n",
       "\n",
       "    .dataframe thead th {\n",
       "        text-align: right;\n",
       "    }\n",
       "</style>\n",
       "<table border=\"1\" class=\"dataframe\">\n",
       "  <thead>\n",
       "    <tr style=\"text-align: right;\">\n",
       "      <th></th>\n",
       "      <th>rideable_type</th>\n",
       "      <th>started_at</th>\n",
       "      <th>ended_at</th>\n",
       "      <th>start_station_name</th>\n",
       "      <th>start_station_id</th>\n",
       "      <th>end_station_name</th>\n",
       "      <th>end_station_id</th>\n",
       "      <th>start_lat</th>\n",
       "      <th>start_lng</th>\n",
       "      <th>end_lat</th>\n",
       "      <th>end_lng</th>\n",
       "      <th>member_casual</th>\n",
       "    </tr>\n",
       "    <tr>\n",
       "      <th>ride_id</th>\n",
       "      <th></th>\n",
       "      <th></th>\n",
       "      <th></th>\n",
       "      <th></th>\n",
       "      <th></th>\n",
       "      <th></th>\n",
       "      <th></th>\n",
       "      <th></th>\n",
       "      <th></th>\n",
       "      <th></th>\n",
       "      <th></th>\n",
       "      <th></th>\n",
       "    </tr>\n",
       "  </thead>\n",
       "  <tbody>\n",
       "    <tr>\n",
       "      <th>B2B980E0EAE1D6F1</th>\n",
       "      <td>classic_bike</td>\n",
       "      <td>2024-02-25 20:25:40.894</td>\n",
       "      <td>2024-02-25 20:43:58.504</td>\n",
       "      <td>Greenwich St &amp; Hubert St</td>\n",
       "      <td>5470.10</td>\n",
       "      <td>Hudson Blvd W &amp; W 36 St</td>\n",
       "      <td>6611.07</td>\n",
       "      <td>40.721319</td>\n",
       "      <td>-74.010065</td>\n",
       "      <td>40.756765</td>\n",
       "      <td>-73.999714</td>\n",
       "      <td>member</td>\n",
       "    </tr>\n",
       "    <tr>\n",
       "      <th>1069DDA1FED20568</th>\n",
       "      <td>classic_bike</td>\n",
       "      <td>2024-02-21 22:21:38.446</td>\n",
       "      <td>2024-02-21 22:40:12.259</td>\n",
       "      <td>Greenwich St &amp; Hubert St</td>\n",
       "      <td>5470.10</td>\n",
       "      <td>Hudson Blvd W &amp; W 36 St</td>\n",
       "      <td>6611.07</td>\n",
       "      <td>40.721319</td>\n",
       "      <td>-74.010065</td>\n",
       "      <td>40.756765</td>\n",
       "      <td>-73.999714</td>\n",
       "      <td>member</td>\n",
       "    </tr>\n",
       "    <tr>\n",
       "      <th>B58850AF6F2D8BD5</th>\n",
       "      <td>electric_bike</td>\n",
       "      <td>2024-02-14 08:31:14.609</td>\n",
       "      <td>2024-02-14 08:42:30.427</td>\n",
       "      <td>Mercer St &amp; Bleecker St</td>\n",
       "      <td>5679.05</td>\n",
       "      <td>W 20 St &amp; 10 Ave</td>\n",
       "      <td>6306.01</td>\n",
       "      <td>40.727068</td>\n",
       "      <td>-73.996554</td>\n",
       "      <td>40.745686</td>\n",
       "      <td>-74.005141</td>\n",
       "      <td>member</td>\n",
       "    </tr>\n",
       "    <tr>\n",
       "      <th>D46E6C5A69048E11</th>\n",
       "      <td>electric_bike</td>\n",
       "      <td>2024-02-05 08:42:25.999</td>\n",
       "      <td>2024-02-05 08:56:26.899</td>\n",
       "      <td>E 20 St &amp; FDR Dr</td>\n",
       "      <td>5886.13</td>\n",
       "      <td>E 74 St &amp; 1 Ave</td>\n",
       "      <td>6953.08</td>\n",
       "      <td>40.733155</td>\n",
       "      <td>-73.975561</td>\n",
       "      <td>40.768974</td>\n",
       "      <td>-73.954823</td>\n",
       "      <td>member</td>\n",
       "    </tr>\n",
       "    <tr>\n",
       "      <th>707AF4CF2C7834C2</th>\n",
       "      <td>electric_bike</td>\n",
       "      <td>2024-02-08 11:13:15.969</td>\n",
       "      <td>2024-02-08 11:18:44.259</td>\n",
       "      <td>E 20 St &amp; FDR Dr</td>\n",
       "      <td>5886.13</td>\n",
       "      <td>Pitt St &amp; Stanton St</td>\n",
       "      <td>5406.04</td>\n",
       "      <td>40.733184</td>\n",
       "      <td>-73.975525</td>\n",
       "      <td>40.719261</td>\n",
       "      <td>-73.981780</td>\n",
       "      <td>member</td>\n",
       "    </tr>\n",
       "  </tbody>\n",
       "</table>\n",
       "</div>"
      ],
      "text/plain": [
       "                  rideable_type               started_at  \\\n",
       "ride_id                                                    \n",
       "B2B980E0EAE1D6F1   classic_bike  2024-02-25 20:25:40.894   \n",
       "1069DDA1FED20568   classic_bike  2024-02-21 22:21:38.446   \n",
       "B58850AF6F2D8BD5  electric_bike  2024-02-14 08:31:14.609   \n",
       "D46E6C5A69048E11  electric_bike  2024-02-05 08:42:25.999   \n",
       "707AF4CF2C7834C2  electric_bike  2024-02-08 11:13:15.969   \n",
       "\n",
       "                                 ended_at        start_station_name  \\\n",
       "ride_id                                                               \n",
       "B2B980E0EAE1D6F1  2024-02-25 20:43:58.504  Greenwich St & Hubert St   \n",
       "1069DDA1FED20568  2024-02-21 22:40:12.259  Greenwich St & Hubert St   \n",
       "B58850AF6F2D8BD5  2024-02-14 08:42:30.427   Mercer St & Bleecker St   \n",
       "D46E6C5A69048E11  2024-02-05 08:56:26.899          E 20 St & FDR Dr   \n",
       "707AF4CF2C7834C2  2024-02-08 11:18:44.259          E 20 St & FDR Dr   \n",
       "\n",
       "                 start_station_id         end_station_name end_station_id  \\\n",
       "ride_id                                                                     \n",
       "B2B980E0EAE1D6F1          5470.10  Hudson Blvd W & W 36 St        6611.07   \n",
       "1069DDA1FED20568          5470.10  Hudson Blvd W & W 36 St        6611.07   \n",
       "B58850AF6F2D8BD5          5679.05         W 20 St & 10 Ave        6306.01   \n",
       "D46E6C5A69048E11          5886.13          E 74 St & 1 Ave        6953.08   \n",
       "707AF4CF2C7834C2          5886.13     Pitt St & Stanton St        5406.04   \n",
       "\n",
       "                  start_lat  start_lng    end_lat    end_lng member_casual  \n",
       "ride_id                                                                     \n",
       "B2B980E0EAE1D6F1  40.721319 -74.010065  40.756765 -73.999714        member  \n",
       "1069DDA1FED20568  40.721319 -74.010065  40.756765 -73.999714        member  \n",
       "B58850AF6F2D8BD5  40.727068 -73.996554  40.745686 -74.005141        member  \n",
       "D46E6C5A69048E11  40.733155 -73.975561  40.768974 -73.954823        member  \n",
       "707AF4CF2C7834C2  40.733184 -73.975525  40.719261 -73.981780        member  "
      ]
     },
     "execution_count": 2,
     "metadata": {},
     "output_type": "execute_result"
    }
   ],
   "source": [
    "import pandas as pd\n",
    "import numpy as np\n",
    "import matplotlib.pyplot as plt\n",
    "import seaborn as sns\n",
    "from pathlib import Path\n",
    "\n",
    "# plotting-- for future use\n",
    "plt.style.use('default')\n",
    "sns.set_palette(\"husl\")\n",
    "\n",
    "# loading\n",
    "data_dir = Path(\"../data/raw\")\n",
    "csv_files = list(data_dir.glob(\"*.csv\"))\n",
    "print(f\"Available data files: {[f.name for f in csv_files]}\")\n",
    "\n",
    "# load first file, explicit index\n",
    "df = pd.read_csv(csv_files[0], index_col='ride_id', low_memory=False)\n",
    "print(f\"Dataset shape: {df.shape}\")\n",
    "df.head()"
   ]
  },
  {
   "cell_type": "code",
   "execution_count": 3,
   "id": "267650d0-8ed6-478c-8d33-6478b78f250c",
   "metadata": {},
   "outputs": [
    {
     "name": "stdout",
     "output_type": "stream",
     "text": [
      "Column names:\n",
      "['rideable_type', 'started_at', 'ended_at', 'start_station_name', 'start_station_id', 'end_station_name', 'end_station_id', 'start_lat', 'start_lng', 'end_lat', 'end_lng', 'member_casual']\n",
      "\n",
      "Data types:\n",
      "rideable_type          object\n",
      "started_at             object\n",
      "ended_at               object\n",
      "start_station_name     object\n",
      "start_station_id       object\n",
      "end_station_name       object\n",
      "end_station_id         object\n",
      "start_lat             float64\n",
      "start_lng             float64\n",
      "end_lat               float64\n",
      "end_lng               float64\n",
      "member_casual          object\n",
      "dtype: object\n",
      "\n",
      "Missing values:\n",
      "rideable_type            0\n",
      "started_at               0\n",
      "ended_at                 0\n",
      "start_station_name    1866\n",
      "start_station_id      1866\n",
      "end_station_name      4768\n",
      "end_station_id        4788\n",
      "start_lat                0\n",
      "start_lng                0\n",
      "end_lat                607\n",
      "end_lng                607\n",
      "member_casual            0\n",
      "dtype: int64\n"
     ]
    }
   ],
   "source": [
    "# overview data\n",
    "\n",
    "# column names for reference\n",
    "print(\"Column names:\")\n",
    "print(df.columns.tolist())\n",
    "\n",
    "# review. correct data types next if necessary.\n",
    "print(\"\\nData types:\")\n",
    "print(df.dtypes)\n",
    "\n",
    "# determine if these are necessary to keep for analytics-- volume, granularity\n",
    "print(\"\\nMissing values:\")\n",
    "print(df.isnull().sum())"
   ]
  },
  {
   "cell_type": "code",
   "execution_count": 4,
   "id": "4e62a562-1a7b-4e21-a3d0-c46c14290193",
   "metadata": {},
   "outputs": [],
   "source": [
    "# change data types for dates and objects\n",
    "# use coerce to avoid raising failures \n",
    "df['started_at'] = pd.to_datetime(df['started_at'], errors='coerce') \n",
    "df['ended_at'] = pd.to_datetime(df['ended_at'], errors='coerce') \n",
    "\n",
    "# change objects to string\n",
    "df[['rideable_type', 'start_station_name', 'end_station_name', 'member_casual']] = df[['rideable_type', 'start_station_name', 'end_station_name', 'member_casual']].astype('string')"
   ]
  },
  {
   "cell_type": "code",
   "execution_count": 5,
   "id": "325998f2-2b6e-481a-aef2-8ceed715bc2c",
   "metadata": {},
   "outputs": [
    {
     "name": "stdout",
     "output_type": "stream",
     "text": [
      "                    Missing_Count  Missing_Percentage\n",
      "start_station_name           1866            0.087957\n",
      "start_station_id             1866            0.087957\n",
      "end_station_name             4768            0.224747\n",
      "end_station_id               4788            0.225689\n",
      "end_lat                       607            0.028612\n",
      "end_lng                       607            0.028612\n",
      "Maximum missing data percentage: 0.226%\n",
      "✓ Excellent data quality: All missing data is below 1% threshold.\n",
      "  Missing data should not affect analysis results.\n"
     ]
    }
   ],
   "source": [
    "# count missing values & percentages & flag with text\n",
    "missing_data = pd.DataFrame({\n",
    "    'Missing_Count': df.isnull().sum(),\n",
    "    'Missing_Percentage': (df.isnull().sum() / len(df)) * 100\n",
    "})\n",
    "missing_data = missing_data[missing_data['Missing_Count'] > 0]  # only show columns with missing counts\n",
    "print(missing_data)\n",
    "\n",
    "max_missing_pct = missing_data['Missing_Percentage'].max() # percentages not counts\n",
    "print(f\"Maximum missing data percentage: {max_missing_pct:.3f}%\")\n",
    "\n",
    "if max_missing_pct < 1.0:\n",
    "    print(\"✓ Excellent data quality: All missing data is below 1% threshold.\")\n",
    "    print(\"  Missing data should not affect analysis results.\")"
   ]
  },
  {
   "cell_type": "code",
   "execution_count": 6,
   "id": "d3324d4b-a36a-47be-a34c-63eb13eb37e2",
   "metadata": {},
   "outputs": [
    {
     "data": {
      "text/plain": [
       "ride_id               0\n",
       "rideable_type         0\n",
       "started_at            0\n",
       "ended_at              0\n",
       "start_station_name    0\n",
       "start_station_id      0\n",
       "end_station_name      0\n",
       "end_station_id        0\n",
       "start_lat             0\n",
       "start_lng             0\n",
       "end_lat               0\n",
       "end_lng               0\n",
       "member_casual         0\n",
       "dtype: int64"
      ]
     },
     "execution_count": 6,
     "metadata": {},
     "output_type": "execute_result"
    }
   ],
   "source": [
    "# drop rows with nulls & confirm counts\n",
    "df_clean = df.dropna().copy()\n",
    "df_clean.reset_index(drop=False, inplace=True)\n",
    "df_clean.isnull().sum()"
   ]
  },
  {
   "cell_type": "code",
   "execution_count": 7,
   "id": "82a1087d-5576-44b6-b1e4-0fcb89db44e1",
   "metadata": {},
   "outputs": [],
   "source": [
    "# export cleaned data for future use\n",
    "# using parquet to maintain data types \n",
    "df_clean.to_parquet('../data/processed/cleaned_citibike_data.parquet')\n"
   ]
  },
  {
   "cell_type": "code",
   "execution_count": null,
   "id": "8b774840-5e7b-4b63-96a2-7a90eeae53a0",
   "metadata": {},
   "outputs": [],
   "source": []
  }
 ],
 "metadata": {
  "kernelspec": {
   "display_name": "Python 3 (ipykernel)",
   "language": "python",
   "name": "python3"
  },
  "language_info": {
   "codemirror_mode": {
    "name": "ipython",
    "version": 3
   },
   "file_extension": ".py",
   "mimetype": "text/x-python",
   "name": "python",
   "nbconvert_exporter": "python",
   "pygments_lexer": "ipython3",
   "version": "3.12.2"
  }
 },
 "nbformat": 4,
 "nbformat_minor": 5
}
